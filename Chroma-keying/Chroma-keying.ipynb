{
 "cells": [
  {
   "cell_type": "code",
   "execution_count": 17,
   "metadata": {},
   "outputs": [],
   "source": [
    "import os\n",
    "from os import path\n",
    "import cv2\n",
    "import glob\n",
    "import re\n",
    "import numpy as np\n",
    "import matplotlib.pyplot as plt"
   ]
  },
  {
   "cell_type": "code",
   "execution_count": 18,
   "metadata": {},
   "outputs": [],
   "source": [
    "if (path.exists('chroma')!= 1):\n",
    "        os.mkdir('chroma')\n",
    "\n",
    "if (path.exists('img')!= 1):\n",
    "        os.mkdir('img')\n",
    "\n",
    "if (path.exists('webcam')!= 1):\n",
    "        os.mkdir('webcam')\n",
    "\n",
    "if (path.exists('sky')!= 1):\n",
    "        os.mkdir('sky')\n"
   ]
  },
  {
   "cell_type": "code",
   "execution_count": 3,
   "metadata": {},
   "outputs": [],
   "source": [
    "def vid_to_img(vid_path,img_path):\n",
    "    # Funtion to convert video to frames\n",
    "    num = 0\n",
    "    exist = True\n",
    "    while exist == True:\n",
    "        capture = cv2.VideoCapture(vid_path)\n",
    "        capture.set(cv2.CAP_PROP_POS_MSEC,(num*50))\n",
    "        exist, img = capture.read()\n",
    "        num = num +1\n",
    "        cv2.imwrite(img_path+\"/img_%d.png\" % num, img)\n",
    "    os.remove(img_path+'/img_' + str(num) + '.png')\n",
    "\n",
    "vid_to_img(\"Bird.mov\",\"img\")\n",
    "    \n",
    "    "
   ]
  },
  {
   "cell_type": "code",
   "execution_count": 19,
   "metadata": {},
   "outputs": [],
   "source": [
    "def img_to_vid(img_path,vid_path,fps = 30):\n",
    "    # Function to convert sequence of frames to video\n",
    "    images = []\n",
    "    size = (1920,1080)\n",
    "    fr = glob.glob(img_path)\n",
    "    fr.sort(key=lambda f: int(re.sub('\\D', '', f)))\n",
    "    for img in fr:\n",
    "        image = cv2.imread(img,1)\n",
    "#         cv2.cvtColor(img,cv2.COLOR_GRAY2BGR)\n",
    "        images.append(image)\n",
    "#         size = (img.shape[0],img.shape[1])\n",
    "        \n",
    "    write = cv2.VideoWriter_fourcc(*'XVID')\n",
    "    vid = cv2.VideoWriter(vid_path, write, fps, size)\n",
    "    i = 0\n",
    "    length = len(images)\n",
    "    while i<length:\n",
    "        vid.write(images[i])\n",
    "#         cv2.imshow(\"frame\",images[i])\n",
    "        i = i+1\n",
    "    vid.release()\n",
    "img_to_vid(\"img/*.png\",\"video.avi\")\n"
   ]
  },
  {
   "cell_type": "code",
   "execution_count": 5,
   "metadata": {},
   "outputs": [],
   "source": [
    "def webcam():\n",
    "    # Function to convert webcam input video to frames\n",
    "    num = 0\n",
    "    cam = cv2.VideoCapture(0)\n",
    "    while True:\n",
    "        num = num + 1\n",
    "        exist, img = cam.read()\n",
    "        cv2.imshow(\"Image\",img)\n",
    "        cv2.imwrite(\"webcam/img_%d.png\" % num, img)\n",
    "        if(cv2.waitKey(1) & 0xFF == ord('s')):\n",
    "            break\n",
    "    cv2.destroyAllWindows()\n",
    "    cam.release()\n",
    "webcam()"
   ]
  },
  {
   "cell_type": "code",
   "execution_count": 6,
   "metadata": {},
   "outputs": [],
   "source": [
    "def chroma_key(img,bg_image):\n",
    "    # Function to to chroma keying for one frame\n",
    "    bg_im = cv2.cvtColor(bg_image, cv2.COLOR_BGR2RGB)\n",
    "    cop = cv2.cvtColor(img, cv2.COLOR_BGR2RGB)\n",
    "    green1 = np.array([0, 100, 0])\n",
    "    green2 = np.array([120, 255, 100])\n",
    "    mask = cv2.inRange(cop, green1, green2)\n",
    "    cop[mask!=0] = [0,0,0]\n",
    "    bg_resize = bg_im[0:1080, 0:1920]\n",
    "    bg_resize[mask == 0] = [0, 0, 0]\n",
    "    return bg_resize + cop"
   ]
  },
  {
   "cell_type": "code",
   "execution_count": 7,
   "metadata": {},
   "outputs": [],
   "source": [
    "img_path = \"img/*.png\"\n",
    "bg_image = vid_to_img(\"blue_sky.mov\",\"sky\")"
   ]
  },
  {
   "cell_type": "code",
   "execution_count": 14,
   "metadata": {},
   "outputs": [],
   "source": [
    "# bg_image = \"images.jpeg\"\n",
    "fr = glob.glob(img_path)\n",
    "fr.sort(key=lambda f: int(re.sub('\\D', '', f)))\n",
    "\n",
    "fr1 = glob.glob(\"sky/*.png\")\n",
    "fr1.sort(key=lambda f: int(re.sub('\\D', '', f)))\n",
    "num = 0\n",
    "x = min(len(fr),len(fr1))\n",
    "for i in range(x):\n",
    "    num = num + 1\n",
    "    image = cv2.imread(fr[i],1)\n",
    "    bg_im = cv2.imread(fr1[i],1)\n",
    "    chroma = chroma_key(image,bg_im)\n",
    "    chroma = cv2.cvtColor(chroma, cv2.COLOR_RGB2BGR)\n",
    "    cv2.imwrite(\"chroma/chroma_%d.png\" % num, chroma)"
   ]
  },
  {
   "cell_type": "code",
   "execution_count": 15,
   "metadata": {},
   "outputs": [],
   "source": [
    "img_to_vid(\"chroma/*.png\", \"chroma_video.avi\")"
   ]
  }
 ],
 "metadata": {
  "kernelspec": {
   "display_name": "Python 3",
   "language": "python",
   "name": "python3"
  },
  "language_info": {
   "codemirror_mode": {
    "name": "ipython",
    "version": 3
   },
   "file_extension": ".py",
   "mimetype": "text/x-python",
   "name": "python",
   "nbconvert_exporter": "python",
   "pygments_lexer": "ipython3",
   "version": "3.7.0"
  }
 },
 "nbformat": 4,
 "nbformat_minor": 4
}
